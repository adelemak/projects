{
 "cells": [
  {
   "cell_type": "code",
   "execution_count": 193,
   "id": "bb82b855-141b-4998-a56d-2b26077e3418",
   "metadata": {},
   "outputs": [],
   "source": [
    "import requests\n",
    "from pprint import pprint"
   ]
  },
  {
   "cell_type": "code",
   "execution_count": 194,
   "id": "a6e1e660-09ec-4482-99d8-32a2337a11ec",
   "metadata": {},
   "outputs": [],
   "source": [
    "from bs4 import BeautifulSoup\n",
    "import re"
   ]
  },
  {
   "cell_type": "code",
   "execution_count": 195,
   "id": "bf295919-ea02-4d03-8543-afa5ecbb8304",
   "metadata": {},
   "outputs": [
    {
     "name": "stdout",
     "output_type": "stream",
     "text": [
      "Requirement already satisfied: tqdm in /Library/Frameworks/Python.framework/Versions/3.11/lib/python3.11/site-packages (4.66.1)\n",
      "\n",
      "\u001b[1m[\u001b[0m\u001b[34;49mnotice\u001b[0m\u001b[1;39;49m]\u001b[0m\u001b[39;49m A new release of pip is available: \u001b[0m\u001b[31;49m23.2.1\u001b[0m\u001b[39;49m -> \u001b[0m\u001b[32;49m23.3.1\u001b[0m\n",
      "\u001b[1m[\u001b[0m\u001b[34;49mnotice\u001b[0m\u001b[1;39;49m]\u001b[0m\u001b[39;49m To update, run: \u001b[0m\u001b[32;49mpip install --upgrade pip\u001b[0m\n"
     ]
    }
   ],
   "source": [
    "!pip install tqdm"
   ]
  },
  {
   "cell_type": "code",
   "execution_count": 196,
   "id": "f199487f-b66d-437a-9dfe-e9e193e63af3",
   "metadata": {},
   "outputs": [],
   "source": [
    "from tqdm.auto import tqdm"
   ]
  },
  {
   "cell_type": "code",
   "execution_count": 197,
   "id": "6bd08397-4571-41ca-83b1-5d77a621acd9",
   "metadata": {},
   "outputs": [],
   "source": [
    "import pandas as pd"
   ]
  },
  {
   "cell_type": "code",
   "execution_count": 211,
   "id": "d4d57795-3fb2-486f-b3ea-98fefe260f6d",
   "metadata": {},
   "outputs": [],
   "source": [
    "import time\n",
    "from datetime import datetime"
   ]
  },
  {
   "cell_type": "code",
   "execution_count": 212,
   "id": "bf3dc687-e395-47b2-9c7c-a87d3aba92d7",
   "metadata": {},
   "outputs": [],
   "source": [
    "import random"
   ]
  },
  {
   "cell_type": "code",
   "execution_count": 226,
   "id": "f4ed8b51-4db9-4db9-badd-b81ff838b971",
   "metadata": {},
   "outputs": [
    {
     "name": "stdout",
     "output_type": "stream",
     "text": [
      "Collecting fake_useragent\n",
      "  Obtaining dependency information for fake_useragent from https://files.pythonhosted.org/packages/33/c9/ff44922639b8827dbc86d463d870dabfc19d1567d8a6427dcb2289d83fd8/fake_useragent-1.4.0-py3-none-any.whl.metadata\n",
      "  Downloading fake_useragent-1.4.0-py3-none-any.whl.metadata (13 kB)\n",
      "Downloading fake_useragent-1.4.0-py3-none-any.whl (15 kB)\n",
      "Installing collected packages: fake_useragent\n",
      "Successfully installed fake_useragent-1.4.0\n",
      "\n",
      "\u001b[1m[\u001b[0m\u001b[34;49mnotice\u001b[0m\u001b[1;39;49m]\u001b[0m\u001b[39;49m A new release of pip is available: \u001b[0m\u001b[31;49m23.2.1\u001b[0m\u001b[39;49m -> \u001b[0m\u001b[32;49m23.3.1\u001b[0m\n",
      "\u001b[1m[\u001b[0m\u001b[34;49mnotice\u001b[0m\u001b[1;39;49m]\u001b[0m\u001b[39;49m To update, run: \u001b[0m\u001b[32;49mpip install --upgrade pip\u001b[0m\n"
     ]
    }
   ],
   "source": [
    "!pip install fake_useragent"
   ]
  },
  {
   "cell_type": "code",
   "execution_count": 227,
   "id": "2a8780fa-3cd0-4cff-9b2a-f51770bbde30",
   "metadata": {},
   "outputs": [],
   "source": [
    "from fake_useragent import UserAgent"
   ]
  },
  {
   "cell_type": "code",
   "execution_count": 230,
   "id": "79591b82-b672-4fec-9bc8-81b600128898",
   "metadata": {},
   "outputs": [],
   "source": [
    "from collections import Counter"
   ]
  },
  {
   "cell_type": "code",
   "execution_count": 239,
   "id": "cb709a08-cc3c-4ae4-9ee8-7b7c6efdbb7b",
   "metadata": {},
   "outputs": [],
   "source": [
    "import matplotlib.pyplot as plt\n",
    "%matplotlib inline\n",
    "import re"
   ]
  },
  {
   "cell_type": "markdown",
   "id": "e5da3bfb-ac40-4a5d-bfe9-26fcbb0b70a1",
   "metadata": {},
   "source": [
    "session = requests.session()"
   ]
  },
  {
   "cell_type": "code",
   "execution_count": 201,
   "id": "2996c06a-767c-42a5-b3db-1f841d34c480",
   "metadata": {},
   "outputs": [],
   "source": [
    "def parse_newsblock(single_bl):\n",
    "    \n",
    "    # Создаем пустой словарь: keys будут названия колонок, values - текст из html\n",
    "    post_dict = {}\n",
    "\n",
    "    # Для каждой колонки подбираем значение из html\n",
    "    a = single_bl.find('a')\n",
    "    post_dict['href'] = a.attrs['href']\n",
    "    post_dict['tag'] = (single_bl.find('div', {'class': 'rd-category'}).text).strip()\n",
    "    post_dict['title'] = single_bl.find('h3', {'class': 'rd-title'}).text\n",
    "    post_dict['preview_text'] = single_bl.find('div', {'class': 'rd-excerpt'}).text\n",
    "    post_dict['date'] = single_bl.find('li', {'class': 'rd-date'}).text\n",
    "    post_dict['views'] = single_bl.find('li', {'class': 'rd-view'}).text\n",
    "    \n",
    "    return post_dict"
   ]
  },
  {
   "cell_type": "code",
   "execution_count": 202,
   "id": "f89fd29b-e45a-454e-a502-84a6538e5b6d",
   "metadata": {},
   "outputs": [],
   "source": [
    "# Вся полезная информация для датасета доступна из блока новости, поэтому здесь достаем только текст статьи\n",
    "# На вход идет словарь, полученный через parse_newsblock\n",
    "\n",
    "def parse_post(post_dict):\n",
    "\n",
    "    # Достаем ссылку на саму новость\n",
    "    link = post_dict['href']\n",
    "\n",
    "    # Качаем html самой новости и парсим\n",
    "    request = session.get(link)\n",
    "    page_1 = request.text\n",
    "    new_soup = BeautifulSoup(page_1, 'html.parser')\n",
    "\n",
    "    # Достаем текст\n",
    "    post_dict['full_text'] = new_soup.find('section', {'class': 'rd-post-content'}).text     \n",
    "    \n",
    "    return post_dict"
   ]
  },
  {
   "cell_type": "code",
   "execution_count": 205,
   "id": "2dc74771-432e-449c-a03c-7cf3b434a913",
   "metadata": {},
   "outputs": [],
   "source": [
    "def process_page(page_number):\n",
    "    \n",
    "    main_url = f'https://tv-karelia.ru/category/lenta-novostey/page/{page_number}/'\n",
    "    main_req = session.get(main_url)\n",
    "    main_page = main_req.text\n",
    "    more_soup = BeautifulSoup(main_page, 'html.parser')\n",
    "    \n",
    "    # Находим все куски html, которые отвечают за блоки новостей\n",
    "    news = more_soup.find_all('li', {'class': 'rd-post-item'})\n",
    "\n",
    "    # Будущий список словарей\n",
    "    block_list = []\n",
    "    \n",
    "    # Проходимся по списку блоков и каждый пропускаем через обе функции\n",
    "    for piece in news:\n",
    "        try:\n",
    "            res = parse_newsblock(piece)\n",
    "            fin_res = parse_post(res)\n",
    "        except Exception as e:\n",
    "            print(e)\n",
    "\n",
    "        # Конечный словарь кладем в список\n",
    "        block_list.append(fin_res)\n",
    "\n",
    "    return block_list"
   ]
  },
  {
   "cell_type": "code",
   "execution_count": 228,
   "id": "e65e2325-bd39-485b-91f2-de1f89402c65",
   "metadata": {},
   "outputs": [],
   "source": [
    "# Основная функция, на вход количество страниц \n",
    "\n",
    "def create_data(n_pages):\n",
    "    \n",
    "    block_list = []\n",
    "    \n",
    "    for i in tqdm(range(n_pages)):\n",
    "        block_list.extend(process_page(i+1))\n",
    "        time.sleep(random.uniform(0.5, 2))\n",
    "    \n",
    "    return block_list"
   ]
  },
  {
   "cell_type": "code",
   "execution_count": 229,
   "id": "2b661d32-b1b9-41fc-8f5c-df30c9a03053",
   "metadata": {},
   "outputs": [
    {
     "data": {
      "application/vnd.jupyter.widget-view+json": {
       "model_id": "fe54619e6d0f4ee28cece3c702e005da",
       "version_major": 2,
       "version_minor": 0
      },
      "text/plain": [
       "  0%|          | 0/100 [00:00<?, ?it/s]"
      ]
     },
     "metadata": {},
     "output_type": "display_data"
    }
   ],
   "source": [
    "# Создаем датафрейм\n",
    "\n",
    "w = create_data(100)\n",
    "df = pd.DataFrame(w)\n",
    "df.to_csv(\"resul_df.csv\", sep=',', index=False, encoding='utf-8')"
   ]
  },
  {
   "cell_type": "code",
   "execution_count": 236,
   "id": "03a70e2a-0590-4526-88de-9ff22a9fd987",
   "metadata": {},
   "outputs": [
    {
     "name": "stdout",
     "output_type": "stream",
     "text": [
      "Общество        344\n",
      "Происшествия    327\n",
      "Погода          130\n",
      "Спорт            43\n",
      "Медицина         41\n",
      "Name: tag, dtype: int64\n"
     ]
    }
   ],
   "source": [
    "# Вывести топ 5 популярных тэгов\n",
    "\n",
    "df = pd.read_csv('resul_df.csv', usecols=['tag'])\n",
    "top_5 = df['tag'].value_counts().nlargest(5)\n",
    "print(top_5)"
   ]
  },
  {
   "cell_type": "code",
   "execution_count": 242,
   "id": "48e57f72-c2fc-4313-a876-8788f66a2097",
   "metadata": {},
   "outputs": [
    {
     "data": {
      "text/plain": [
       "<Axes: ylabel='tag'>"
      ]
     },
     "execution_count": 242,
     "metadata": {},
     "output_type": "execute_result"
    },
    {
     "data": {
      "image/png": "[encoded data removed]",
      "text/plain": [
       "<Figure size 640x480 with 1 Axes>"
      ]
     },
     "metadata": {},
     "output_type": "display_data"
    }
   ],
   "source": [
    "# Строим круговую диаграмму по тэгам \n",
    "\n",
    "df['tag'].value_counts().head(5).plot.pie()"
   ]
  }
 ],
 "metadata": {
  "kernelspec": {
   "display_name": "Python 3 (ipykernel)",
   "language": "python",
   "name": "python3"
  },
  "language_info": {
   "codemirror_mode": {
    "name": "ipython",
    "version": 3
   },
   "file_extension": ".py",
   "mimetype": "text/x-python",
   "name": "python",
   "nbconvert_exporter": "python",
   "pygments_lexer": "ipython3",
   "version": "3.11.3"
  }
 },
 "nbformat": 4,
 "nbformat_minor": 5
}
