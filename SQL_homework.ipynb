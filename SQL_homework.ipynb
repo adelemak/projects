{
 "cells": [
  {
   "cell_type": "markdown",
   "metadata": {},
   "source": [
    "# ДЗ 3\n",
    "\n",
    "**Задание 1.1**"
   ]
  },
  {
   "cell_type": "markdown",
   "metadata": {},
   "source": [
    "``` mysql\n",
    "SELECT title, premiered\n",
    "FROM titles\n",
    "WHERE premiered < 2018\n",
    "```"
   ]
  },
  {
   "cell_type": "markdown",
   "metadata": {},
   "source": [
    "**Задание 1.2**"
   ]
  },
  {
   "cell_type": "markdown",
   "metadata": {},
   "source": [
    "``` mysql\n",
    "SELECT title, rating, votes\n",
    "FROM titles\n",
    "  JOIN rating ON titles.title_id = rating.title_id\n",
    "ORDER BY votes DESC -- упорядочиваем по колчиеству оценок в порядке убывания\n",
    "LIMIT 50 -- выводим первые 50\n",
    "```"
   ]
  },
  {
   "cell_type": "markdown",
   "metadata": {},
   "source": [
    "**Задание 1.3**"
   ]
  },
  {
   "cell_type": "markdown",
   "metadata": {},
   "source": [
    "``` mysql\n",
    "SELECT title, \n",
    "    genre_name, \n",
    "    rating, \n",
    "    premiered\n",
    "FROM titles\n",
    "    JOIN rating ON titles.title_id = rating.title_id\n",
    "    JOIN genre_types ON film_genres.genre_id = genre_types.id\n",
    "    JOIN film_genres ON titles.title_id = film_genres.title_id\n",
    "WHERE rating >= 7 AND titles.premiered = 2019 AND genre_types.genre_name = \"Comedy\"\n",
    "ORDER BY votes DESC\n",
    "LIMIT 10\n",
    "```"
   ]
  },
  {
   "cell_type": "markdown",
   "metadata": {},
   "source": [
    "**Задание 1.4**"
   ]
  },
  {
   "cell_type": "markdown",
   "metadata": {},
   "source": [
    "``` mysql\n",
    "SELECT title, premiered\n",
    "FROM titles\n",
    "    JOIN people ON crew.person_id = people.person_id\n",
    "    JOIN crew ON titles.title_id = crew.title_id\n",
    "WHERE people.name = \"Ryan Gosling\" -- фильтруем по актеру\n",
    "ORDER BY premiered ASC -- от старых фильмов к новым\n",
    "```"
   ]
  },
  {
   "cell_type": "markdown",
   "metadata": {},
   "source": [
    "**Задание 1.5**"
   ]
  },
  {
   "cell_type": "markdown",
   "metadata": {},
   "source": [
    "``` mysql\n",
    "SELECT premiered, COUNT(*)\n",
    "FROM titles\n",
    "    JOIN genre_types ON film_genres.genre_id = genre_types.id\n",
    "    JOIN film_genres ON titles.title_id = film_genres.title_id\n",
    "WHERE genre_name = \"Fantasy\" -- оставляем один жанр\n",
    "GROUP BY premiered -- группируем по годам, получается количество фильмов жанра для каждого года\n",
    "```"
   ]
  },
  {
   "cell_type": "markdown",
   "metadata": {},
   "source": [
    "**Задание 1.6**"
   ]
  },
  {
   "cell_type": "markdown",
   "metadata": {},
   "source": [
    "``` mysql\n",
    "SELECT DISTINCT\n",
    "name,\n",
    "(CASE \n",
    "    WHEN people.died == NULL THEN 2023 - people.born\n",
    "    ELSE people.died - people.born END) AS age \n",
    "FROM titles\n",
    "    JOIN people ON crew.person_id = people.person_id\n",
    "    JOIN crew ON titles.title_id = crew.title_id\n",
    "WHERE age >= 100\n",
    "ORDER BY age DESC \n",
    "LIMIT 10 -- если надо вывести топ 10 долгожителей, а не список всех\n",
    "```"
   ]
  },
  {
   "cell_type": "markdown",
   "metadata": {},
   "source": [
    "**Задание 1.7**"
   ]
  },
  {
   "cell_type": "code",
   "execution_count": null,
   "metadata": {},
   "outputs": [],
   "source": [
    "import sqlite3\n",
    "import pandas as pd\n",
    "\n",
    "con = sqlite3.connect('imdb_small_indexed.db')\n",
    "cur = con.cursor()"
   ]
  },
  {
   "cell_type": "code",
   "execution_count": null,
   "metadata": {},
   "outputs": [],
   "source": [
    "import numpy as np\n",
    "import matplotlib.pyplot as plt"
   ]
  },
  {
   "cell_type": "markdown",
   "metadata": {},
   "source": [
    "Создаем запрос для комедий: выводим количество комедий для каждого округленного рейтинга и записываем в датафрейм."
   ]
  },
  {
   "cell_type": "code",
   "execution_count": 37,
   "metadata": {},
   "outputs": [],
   "source": [
    "com_query = \"\"\"\n",
    "SELECT\n",
    "    ROUND(rating) AS rounded_rating,\n",
    "\tCOUNT(*) as number,\n",
    "    genre_name\n",
    "FROM titles\n",
    "    JOIN rating ON titles.title_id = rating.title_id\n",
    "    JOIN genre_types ON film_genres.genre_id = genre_types.id\n",
    "    JOIN film_genres ON titles.title_id = film_genres.title_id\n",
    "WHERE genre_types.genre_name =\"Comedy\"\n",
    "GROUP BY rounded_rating\n",
    "\"\"\""
   ]
  },
  {
   "cell_type": "code",
   "execution_count": 38,
   "metadata": {},
   "outputs": [
    {
     "name": "stdout",
     "output_type": "stream",
     "text": [
      "   rounded_rating  number genre_name\n",
      "0             1.0     138     Comedy\n",
      "1             2.0     717     Comedy\n",
      "2             3.0    2478     Comedy\n",
      "3             4.0    6503     Comedy\n",
      "4             5.0   14546     Comedy\n",
      "5             6.0   25271     Comedy\n",
      "6             7.0   24277     Comedy\n",
      "7             8.0   12327     Comedy\n",
      "8             9.0    1895     Comedy\n",
      "9            10.0      96     Comedy\n"
     ]
    }
   ],
   "source": [
    "cur.execute(com_query)\n",
    "df_com = pd.read_sql_query(com_query, con=con)\n",
    "print(df_com)"
   ]
  },
  {
   "cell_type": "markdown",
   "metadata": {},
   "source": [
    "Так же с документалками"
   ]
  },
  {
   "cell_type": "code",
   "execution_count": null,
   "metadata": {},
   "outputs": [],
   "source": [
    "doc_query = \"\"\"\n",
    "SELECT\n",
    "    ROUND(rating) AS rounded_rating,\n",
    "\tCOUNT(*) as number,\n",
    "    genre_name\n",
    "FROM titles\n",
    "    JOIN rating ON titles.title_id = rating.title_id\n",
    "    JOIN genre_types ON film_genres.genre_id = genre_types.id\n",
    "    JOIN film_genres ON titles.title_id = film_genres.title_id\n",
    "WHERE genre_types.genre_name =\"Documentary\"\n",
    "GROUP BY rounded_rating\n",
    "\"\"\""
   ]
  },
  {
   "cell_type": "code",
   "execution_count": 84,
   "metadata": {},
   "outputs": [
    {
     "name": "stdout",
     "output_type": "stream",
     "text": [
      "   rounded_rating  number   genre_name\n",
      "0             1.0      34  Documentary\n",
      "1             2.0     115  Documentary\n",
      "2             3.0     282  Documentary\n",
      "3             4.0     643  Documentary\n",
      "4             5.0    1724  Documentary\n",
      "5             6.0    5992  Documentary\n",
      "6             7.0   16237  Documentary\n",
      "7             8.0   15334  Documentary\n",
      "8             9.0    5075  Documentary\n",
      "9            10.0     213  Documentary\n"
     ]
    }
   ],
   "source": [
    "cur.execute(doc_query)\n",
    "df_doc = pd.read_sql_query(doc_query, con=con)\n",
    "print(df_doc)"
   ]
  },
  {
   "cell_type": "markdown",
   "metadata": {},
   "source": [
    "Создаем точечный график для категорий комедии и документалки, где по ось Х это рейтинг, а Y - количество фильмов соответственно."
   ]
  },
  {
   "cell_type": "code",
   "execution_count": 98,
   "metadata": {},
   "outputs": [
    {
     "data": {
      "image/png": "[encoded data removed]",
      "text/plain": [
       "<Figure size 640x480 with 1 Axes>"
      ]
     },
     "metadata": {},
     "output_type": "display_data"
    }
   ],
   "source": [
    "plt.scatter(df_com['rounded_rating'], df_com['number'], color='pink', label=\"Comedy\")\n",
    "plt.scatter(df_doc['rounded_rating'], df_doc['number'], color='blue', label=\"Documentary\")\n",
    "plt.title('Number of films according to rating')\n",
    "plt.ylabel('number of films')\n",
    "plt.xlabel('rating')\n",
    "plt.legend(loc='best')\n",
    "plt.show()"
   ]
  },
  {
   "cell_type": "markdown",
   "metadata": {},
   "source": [
    "**Задание 1.8**"
   ]
  },
  {
   "cell_type": "markdown",
   "metadata": {},
   "source": [
    "Создаем таблицу"
   ]
  },
  {
   "cell_type": "code",
   "execution_count": 89,
   "metadata": {},
   "outputs": [
    {
     "data": {
      "text/plain": [
       "<sqlite3.Cursor at 0x12413a740>"
      ]
     },
     "execution_count": 89,
     "metadata": {},
     "output_type": "execute_result"
    }
   ],
   "source": [
    "cur.execute(\"\"\"\n",
    "CREATE TABLE centenarians (\n",
    "    person_id INT, \n",
    "    name TEXT,\n",
    "    age INT,\n",
    "    PRIMARY KEY (person_id)\n",
    ")\n",
    "\"\"\")"
   ]
  },
  {
   "cell_type": "code",
   "execution_count": 90,
   "metadata": {},
   "outputs": [],
   "source": [
    "con.commit()"
   ]
  },
  {
   "cell_type": "markdown",
   "metadata": {},
   "source": [
    "Запрос для содержания новой таблицы"
   ]
  },
  {
   "cell_type": "code",
   "execution_count": 91,
   "metadata": {},
   "outputs": [],
   "source": [
    "cent_query = '''\n",
    "SELECT DISTINCT\n",
    "people.person_id,\n",
    "name,\n",
    "(CASE \n",
    "    WHEN people.died == NULL THEN 2023 - people.born\n",
    "    ELSE people.died - people.born END) AS age \n",
    "FROM titles\n",
    "    JOIN people ON crew.person_id = people.person_id\n",
    "    JOIN crew ON titles.title_id = crew.title_id\n",
    "WHERE age >= 100\n",
    "ORDER BY age DESC\n",
    "'''"
   ]
  },
  {
   "cell_type": "markdown",
   "metadata": {},
   "source": [
    "Сделаем запрос и срез"
   ]
  },
  {
   "cell_type": "code",
   "execution_count": 93,
   "metadata": {},
   "outputs": [
    {
     "data": {
      "text/plain": [
       "[(130625, 'Jeanne Louise Calment', 122),\n",
       " (4304013, 'Fakir Lalon Shah', 118),\n",
       " (275946, 'Gustave Field', 116),\n",
       " (1919360, 'Maria De Jesus', 116),\n",
       " (2662909, 'Henry Allingham', 113),\n",
       " (756226, 'Frederica Sagor Maas', 112),\n",
       " (41807, 'Germaine Auger', 112),\n",
       " (2122051, 'Harry Patch', 111),\n",
       " (2304799, 'Aliza Sommer-Herz', 111),\n",
       " (7407296, 'Vera Price', 111)]"
      ]
     },
     "execution_count": 93,
     "metadata": {},
     "output_type": "execute_result"
    }
   ],
   "source": [
    "cur.execute(cent_query)\n",
    "dt = cur.fetchall()\n",
    "\n",
    "dt[:10]"
   ]
  },
  {
   "cell_type": "markdown",
   "metadata": {},
   "source": [
    "Вставляем данные из запроса в таблицу"
   ]
  },
  {
   "cell_type": "code",
   "execution_count": 94,
   "metadata": {},
   "outputs": [],
   "source": [
    "cur.executemany(\"INSERT INTO centenarians VALUES (?, ?, ?)\", dt)\n",
    "con.commit()"
   ]
  },
  {
   "cell_type": "markdown",
   "metadata": {},
   "source": [
    "Протестируем"
   ]
  },
  {
   "cell_type": "code",
   "execution_count": 95,
   "metadata": {},
   "outputs": [],
   "source": [
    "test_query = '''\n",
    "SELECT *\n",
    "FROM centenarians\n",
    "ORDER BY age >= 100\n",
    "LIMIT 10\n",
    "'''"
   ]
  },
  {
   "cell_type": "code",
   "execution_count": 97,
   "metadata": {},
   "outputs": [
    {
     "name": "stdout",
     "output_type": "stream",
     "text": [
      "[(130625, 'Jeanne Louise Calment', 122), (4304013, 'Fakir Lalon Shah', 118), (275946, 'Gustave Field', 116), (1919360, 'Maria De Jesus', 116), (2662909, 'Henry Allingham', 113), (756226, 'Frederica Sagor Maas', 112), (41807, 'Germaine Auger', 112), (2122051, 'Harry Patch', 111), (2304799, 'Aliza Sommer-Herz', 111), (7407296, 'Vera Price', 111)]\n"
     ]
    }
   ],
   "source": [
    "cur.execute(test_query)\n",
    "res = cur.fetchall()\n",
    "print(res)"
   ]
  }
 ],
 "metadata": {
  "kernelspec": {
   "display_name": "Python 3 (ipykernel)",
   "language": "python",
   "name": "python3"
  },
  "language_info": {
   "codemirror_mode": {
    "name": "ipython",
    "version": 3
   },
   "file_extension": ".py",
   "mimetype": "text/x-python",
   "name": "python",
   "nbconvert_exporter": "python",
   "pygments_lexer": "ipython3",
   "version": "3.11.3"
  }
 },
 "nbformat": 4,
 "nbformat_minor": 4
}
